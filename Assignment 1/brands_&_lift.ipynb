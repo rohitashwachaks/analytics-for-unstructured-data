{
 "cells": [
  {
   "cell_type": "markdown",
   "source": [
    "# Calculate Lift Values"
   ],
   "metadata": {}
  },
  {
   "cell_type": "code",
   "execution_count": 1,
   "source": [
    "import pandas as pd\n",
    "import numpy as np"
   ],
   "outputs": [],
   "metadata": {}
  },
  {
   "cell_type": "code",
   "execution_count": 4,
   "source": [
    "corpus = pd.read_csv(\"./output/comments_5000.csv\", index_col=0)\n",
    "corpus.dropna(inplace= True)\n",
    "corpus[\"comments\"] = corpus[\"comments\"].str.lower()\n",
    "print(corpus.shape)\n",
    "N = corpus.shape[0]\n",
    "corpus.head()"
   ],
   "outputs": [
    {
     "output_type": "stream",
     "name": "stdout",
     "text": [
      "(4979, 3)\n"
     ]
    },
    {
     "output_type": "execute_result",
     "data": {
      "text/html": [
       "<div>\n",
       "<style scoped>\n",
       "    .dataframe tbody tr th:only-of-type {\n",
       "        vertical-align: middle;\n",
       "    }\n",
       "\n",
       "    .dataframe tbody tr th {\n",
       "        vertical-align: top;\n",
       "    }\n",
       "\n",
       "    .dataframe thead th {\n",
       "        text-align: right;\n",
       "    }\n",
       "</style>\n",
       "<table border=\"1\" class=\"dataframe\">\n",
       "  <thead>\n",
       "    <tr style=\"text-align: right;\">\n",
       "      <th></th>\n",
       "      <th>Date</th>\n",
       "      <th>user_id</th>\n",
       "      <th>comments</th>\n",
       "    </tr>\n",
       "  </thead>\n",
       "  <tbody>\n",
       "    <tr>\n",
       "      <th>0</th>\n",
       "      <td>February 25, 2020 12:38PM</td>\n",
       "      <td>Michaell</td>\n",
       "      <td>\\nand, that's on top of any discount you negot...</td>\n",
       "    </tr>\n",
       "    <tr>\n",
       "      <th>1</th>\n",
       "      <td>February 25, 2020 12:41PM</td>\n",
       "      <td>andres3</td>\n",
       "      <td>add $350 to any lease on a kia if you are not ...</td>\n",
       "    </tr>\n",
       "    <tr>\n",
       "      <th>2</th>\n",
       "      <td>February 25, 2020 12:44PM</td>\n",
       "      <td>andres3</td>\n",
       "      <td>\\n\\ndid you hear about the key fob scam the de...</td>\n",
       "    </tr>\n",
       "    <tr>\n",
       "      <th>3</th>\n",
       "      <td>February 25, 2020 12:47PM</td>\n",
       "      <td>tjc78</td>\n",
       "      <td>that's a jaw-dropping lease incentive. amazing...</td>\n",
       "    </tr>\n",
       "    <tr>\n",
       "      <th>4</th>\n",
       "      <td>February 25, 2020 12:50PM</td>\n",
       "      <td>Michaell</td>\n",
       "      <td>\\ni'm pretty sure that's the case with any cap...</td>\n",
       "    </tr>\n",
       "  </tbody>\n",
       "</table>\n",
       "</div>"
      ],
      "text/plain": [
       "                        Date   user_id  \\\n",
       "0  February 25, 2020 12:38PM  Michaell   \n",
       "1  February 25, 2020 12:41PM   andres3   \n",
       "2  February 25, 2020 12:44PM   andres3   \n",
       "3  February 25, 2020 12:47PM     tjc78   \n",
       "4  February 25, 2020 12:50PM  Michaell   \n",
       "\n",
       "                                            comments  \n",
       "0  \\nand, that's on top of any discount you negot...  \n",
       "1  add $350 to any lease on a kia if you are not ...  \n",
       "2  \\n\\ndid you hear about the key fob scam the de...  \n",
       "3  that's a jaw-dropping lease incentive. amazing...  \n",
       "4  \\ni'm pretty sure that's the case with any cap...  "
      ]
     },
     "metadata": {},
     "execution_count": 4
    }
   ],
   "metadata": {}
  },
  {
   "cell_type": "code",
   "execution_count": 12,
   "source": [
    "top10 = ['audi',\n",
    " 'bmw',\n",
    " 'acura',\n",
    " 'honda',\n",
    " 'volkswagen',\n",
    " 'cadillac',\n",
    " 'infiniti',\n",
    " 'mercedes',\n",
    " 'hyundai',\n",
    " 'toyota']\n",
    "freq_count = {}\n",
    "for brands in top10:\n",
    "    freq_count[brands] = 0"
   ],
   "outputs": [],
   "metadata": {}
  },
  {
   "cell_type": "code",
   "execution_count": 13,
   "source": [
    "freq_count = {}\n",
    "for brand in top10:\n",
    "    freq_count[brand] = sum(corpus.comments.str.contains(brand))\n",
    "freq_count"
   ],
   "outputs": [
    {
     "output_type": "execute_result",
     "data": {
      "text/plain": [
       "{'audi': 703,\n",
       " 'bmw': 905,\n",
       " 'acura': 432,\n",
       " 'honda': 174,\n",
       " 'volkswagen': 14,\n",
       " 'cadillac': 218,\n",
       " 'infiniti': 178,\n",
       " 'mercedes': 173,\n",
       " 'hyundai': 81,\n",
       " 'toyota': 78}"
      ]
     },
     "metadata": {},
     "execution_count": 13
    }
   ],
   "metadata": {}
  },
  {
   "cell_type": "code",
   "execution_count": 16,
   "source": [
    "def SimultaneousCount(brand1: str, brand2: str):\n",
    "    return corpus[\"comments\"].apply(lambda x: (all(t in x for t in [brand1, brand2])))\n",
    "\n",
    "sum(SimultaneousCount(\"mercedes\",\"hyundai\"))"
   ],
   "outputs": [
    {
     "output_type": "execute_result",
     "data": {
      "text/plain": [
       "11"
      ]
     },
     "metadata": {},
     "execution_count": 16
    }
   ],
   "metadata": {}
  },
  {
   "cell_type": "code",
   "execution_count": 19,
   "source": [
    "Lift = pd.DataFrame(index=top10, columns=top10)\n",
    "\n",
    "for brand1 in top10:\n",
    "    for brand2 in top10:\n",
    "        N_ab = sum(SimultaneousCount(brand1, brand2))\n",
    "\n",
    "        Lift[brand1][brand2] = (N*N_ab)/(freq_count[brand1]*freq_count[brand2])\n",
    "        if(brand1 == brand2):\n",
    "            Lift[brand1][brand2] = np.nan\n",
    "\n",
    "# Lift.to_csv(\"./output/lift.csv\")\n",
    "Lift"
   ],
   "outputs": [
    {
     "output_type": "execute_result",
     "data": {
      "text/html": [
       "<div>\n",
       "<style scoped>\n",
       "    .dataframe tbody tr th:only-of-type {\n",
       "        vertical-align: middle;\n",
       "    }\n",
       "\n",
       "    .dataframe tbody tr th {\n",
       "        vertical-align: top;\n",
       "    }\n",
       "\n",
       "    .dataframe thead th {\n",
       "        text-align: right;\n",
       "    }\n",
       "</style>\n",
       "<table border=\"1\" class=\"dataframe\">\n",
       "  <thead>\n",
       "    <tr style=\"text-align: right;\">\n",
       "      <th></th>\n",
       "      <th>audi</th>\n",
       "      <th>bmw</th>\n",
       "      <th>acura</th>\n",
       "      <th>honda</th>\n",
       "      <th>volkswagen</th>\n",
       "      <th>cadillac</th>\n",
       "      <th>infiniti</th>\n",
       "      <th>mercedes</th>\n",
       "      <th>hyundai</th>\n",
       "      <th>toyota</th>\n",
       "    </tr>\n",
       "  </thead>\n",
       "  <tbody>\n",
       "    <tr>\n",
       "      <th>audi</th>\n",
       "      <td>NaN</td>\n",
       "      <td>2.433877</td>\n",
       "      <td>2.623149</td>\n",
       "      <td>2.360835</td>\n",
       "      <td>3.035359</td>\n",
       "      <td>3.541252</td>\n",
       "      <td>3.421884</td>\n",
       "      <td>4.626144</td>\n",
       "      <td>2.09852</td>\n",
       "      <td>2.270033</td>\n",
       "    </tr>\n",
       "    <tr>\n",
       "      <th>bmw</th>\n",
       "      <td>2.433877</td>\n",
       "      <td>NaN</td>\n",
       "      <td>1.935768</td>\n",
       "      <td>1.23313</td>\n",
       "      <td>1.178927</td>\n",
       "      <td>2.3218</td>\n",
       "      <td>2.689012</td>\n",
       "      <td>3.911583</td>\n",
       "      <td>1.630121</td>\n",
       "      <td>1.90442</td>\n",
       "    </tr>\n",
       "    <tr>\n",
       "      <th>acura</th>\n",
       "      <td>2.623149</td>\n",
       "      <td>1.935768</td>\n",
       "      <td>NaN</td>\n",
       "      <td>5.961446</td>\n",
       "      <td>1.646495</td>\n",
       "      <td>3.277884</td>\n",
       "      <td>5.697982</td>\n",
       "      <td>3.99727</td>\n",
       "      <td>2.845793</td>\n",
       "      <td>2.51196</td>\n",
       "    </tr>\n",
       "    <tr>\n",
       "      <th>honda</th>\n",
       "      <td>2.360835</td>\n",
       "      <td>1.23313</td>\n",
       "      <td>5.961446</td>\n",
       "      <td>NaN</td>\n",
       "      <td>4.087849</td>\n",
       "      <td>1.968918</td>\n",
       "      <td>3.697436</td>\n",
       "      <td>2.646469</td>\n",
       "      <td>5.652334</td>\n",
       "      <td>9.905172</td>\n",
       "    </tr>\n",
       "    <tr>\n",
       "      <th>volkswagen</th>\n",
       "      <td>3.035359</td>\n",
       "      <td>1.178927</td>\n",
       "      <td>1.646495</td>\n",
       "      <td>4.087849</td>\n",
       "      <td>NaN</td>\n",
       "      <td>3.262779</td>\n",
       "      <td>1.997994</td>\n",
       "      <td>4.111478</td>\n",
       "      <td>0.0</td>\n",
       "      <td>0.0</td>\n",
       "    </tr>\n",
       "    <tr>\n",
       "      <th>cadillac</th>\n",
       "      <td>3.541252</td>\n",
       "      <td>2.3218</td>\n",
       "      <td>3.277884</td>\n",
       "      <td>1.968918</td>\n",
       "      <td>3.262779</td>\n",
       "      <td>NaN</td>\n",
       "      <td>4.747526</td>\n",
       "      <td>6.336957</td>\n",
       "      <td>3.101654</td>\n",
       "      <td>3.513761</td>\n",
       "    </tr>\n",
       "    <tr>\n",
       "      <th>infiniti</th>\n",
       "      <td>3.421884</td>\n",
       "      <td>2.689012</td>\n",
       "      <td>5.697982</td>\n",
       "      <td>3.697436</td>\n",
       "      <td>1.997994</td>\n",
       "      <td>4.747526</td>\n",
       "      <td>NaN</td>\n",
       "      <td>6.629181</td>\n",
       "      <td>4.834651</td>\n",
       "      <td>3.944757</td>\n",
       "    </tr>\n",
       "    <tr>\n",
       "      <th>mercedes</th>\n",
       "      <td>4.626144</td>\n",
       "      <td>3.911583</td>\n",
       "      <td>3.99727</td>\n",
       "      <td>2.646469</td>\n",
       "      <td>4.111478</td>\n",
       "      <td>6.336957</td>\n",
       "      <td>6.629181</td>\n",
       "      <td>NaN</td>\n",
       "      <td>3.908442</td>\n",
       "      <td>3.320809</td>\n",
       "    </tr>\n",
       "    <tr>\n",
       "      <th>hyundai</th>\n",
       "      <td>2.09852</td>\n",
       "      <td>1.630121</td>\n",
       "      <td>2.845793</td>\n",
       "      <td>5.652334</td>\n",
       "      <td>0.0</td>\n",
       "      <td>3.101654</td>\n",
       "      <td>4.834651</td>\n",
       "      <td>3.908442</td>\n",
       "      <td>NaN</td>\n",
       "      <td>7.092593</td>\n",
       "    </tr>\n",
       "    <tr>\n",
       "      <th>toyota</th>\n",
       "      <td>2.270033</td>\n",
       "      <td>1.90442</td>\n",
       "      <td>2.51196</td>\n",
       "      <td>9.905172</td>\n",
       "      <td>0.0</td>\n",
       "      <td>3.513761</td>\n",
       "      <td>3.944757</td>\n",
       "      <td>3.320809</td>\n",
       "      <td>7.092593</td>\n",
       "      <td>NaN</td>\n",
       "    </tr>\n",
       "  </tbody>\n",
       "</table>\n",
       "</div>"
      ],
      "text/plain": [
       "                audi       bmw     acura     honda volkswagen  cadillac  \\\n",
       "audi             NaN  2.433877  2.623149  2.360835   3.035359  3.541252   \n",
       "bmw         2.433877       NaN  1.935768   1.23313   1.178927    2.3218   \n",
       "acura       2.623149  1.935768       NaN  5.961446   1.646495  3.277884   \n",
       "honda       2.360835   1.23313  5.961446       NaN   4.087849  1.968918   \n",
       "volkswagen  3.035359  1.178927  1.646495  4.087849        NaN  3.262779   \n",
       "cadillac    3.541252    2.3218  3.277884  1.968918   3.262779       NaN   \n",
       "infiniti    3.421884  2.689012  5.697982  3.697436   1.997994  4.747526   \n",
       "mercedes    4.626144  3.911583   3.99727  2.646469   4.111478  6.336957   \n",
       "hyundai      2.09852  1.630121  2.845793  5.652334        0.0  3.101654   \n",
       "toyota      2.270033   1.90442   2.51196  9.905172        0.0  3.513761   \n",
       "\n",
       "            infiniti  mercedes   hyundai    toyota  \n",
       "audi        3.421884  4.626144   2.09852  2.270033  \n",
       "bmw         2.689012  3.911583  1.630121   1.90442  \n",
       "acura       5.697982   3.99727  2.845793   2.51196  \n",
       "honda       3.697436  2.646469  5.652334  9.905172  \n",
       "volkswagen  1.997994  4.111478       0.0       0.0  \n",
       "cadillac    4.747526  6.336957  3.101654  3.513761  \n",
       "infiniti         NaN  6.629181  4.834651  3.944757  \n",
       "mercedes    6.629181       NaN  3.908442  3.320809  \n",
       "hyundai     4.834651  3.908442       NaN  7.092593  \n",
       "toyota      3.944757  3.320809  7.092593       NaN  "
      ]
     },
     "metadata": {},
     "execution_count": 19
    }
   ],
   "metadata": {}
  },
  {
   "cell_type": "code",
   "execution_count": 7,
   "source": [
    "a = np.array(Lift)\n",
    "np.alltrue(a == a.T)\n",
    "# Lift is Symmetric"
   ],
   "outputs": [
    {
     "output_type": "execute_result",
     "data": {
      "text/plain": [
       "True"
      ]
     },
     "metadata": {},
     "execution_count": 7
    }
   ],
   "metadata": {}
  },
  {
   "cell_type": "markdown",
   "source": [
    "***"
   ],
   "metadata": {}
  }
 ],
 "metadata": {
  "orig_nbformat": 4,
  "language_info": {
   "name": "python",
   "version": "3.9.6",
   "mimetype": "text/x-python",
   "codemirror_mode": {
    "name": "ipython",
    "version": 3
   },
   "pygments_lexer": "ipython3",
   "nbconvert_exporter": "python",
   "file_extension": ".py"
  },
  "kernelspec": {
   "name": "python3",
   "display_name": "Python 3.9.6 64-bit ('mis-284n': conda)"
  },
  "interpreter": {
   "hash": "4ff5cf590a1211141850067b7be7ddbced36f8319e8ee97286c1fbd0c81975fa"
  }
 },
 "nbformat": 4,
 "nbformat_minor": 2
}