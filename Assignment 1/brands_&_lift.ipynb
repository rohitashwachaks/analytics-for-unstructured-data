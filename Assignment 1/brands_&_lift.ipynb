{
 "cells": [
  {
   "cell_type": "markdown",
   "source": [
    "# Calculate Lift Values"
   ],
   "metadata": {}
  },
  {
   "cell_type": "code",
   "execution_count": 1,
   "source": [
    "import pandas as pd\n",
    "import numpy as np"
   ],
   "outputs": [],
   "metadata": {}
  },
  {
   "cell_type": "code",
   "execution_count": 2,
   "source": [
    "corpus = pd.read_csv(\"./output/Results.csv\", index_col=0)\n",
    "corpus.dropna(inplace= True)\n",
    "corpus[\"comments\"] = corpus[\"comments\"].str.lower()\n",
    "print(corpus.shape)\n",
    "N = corpus.shape[0]\n",
    "corpus.head()"
   ],
   "outputs": [
    {
     "output_type": "stream",
     "name": "stdout",
     "text": [
      "(4986, 2)\n"
     ]
    },
    {
     "output_type": "execute_result",
     "data": {
      "text/html": [
       "<div>\n",
       "<style scoped>\n",
       "    .dataframe tbody tr th:only-of-type {\n",
       "        vertical-align: middle;\n",
       "    }\n",
       "\n",
       "    .dataframe tbody tr th {\n",
       "        vertical-align: top;\n",
       "    }\n",
       "\n",
       "    .dataframe thead th {\n",
       "        text-align: right;\n",
       "    }\n",
       "</style>\n",
       "<table border=\"1\" class=\"dataframe\">\n",
       "  <thead>\n",
       "    <tr style=\"text-align: right;\">\n",
       "      <th></th>\n",
       "      <th>Date</th>\n",
       "      <th>comments</th>\n",
       "    </tr>\n",
       "  </thead>\n",
       "  <tbody>\n",
       "    <tr>\n",
       "      <th>0</th>\n",
       "      <td>March 24, 2002 10:54PM</td>\n",
       "      <td>i personally think that with a few tweaks the ...</td>\n",
       "    </tr>\n",
       "    <tr>\n",
       "      <th>1</th>\n",
       "      <td>March 25, 2002 12:06AM</td>\n",
       "      <td>i am debating a new purchase and these two are...</td>\n",
       "    </tr>\n",
       "    <tr>\n",
       "      <th>2</th>\n",
       "      <td>March 25, 2002 10:02AM</td>\n",
       "      <td>great handling, rwd, excellent engine and the ...</td>\n",
       "    </tr>\n",
       "    <tr>\n",
       "      <th>3</th>\n",
       "      <td>March 25, 2002 4:04PM</td>\n",
       "      <td>and no manual tranny. that may not matter to y...</td>\n",
       "    </tr>\n",
       "    <tr>\n",
       "      <th>4</th>\n",
       "      <td>March 25, 2002 5:44PM</td>\n",
       "      <td>one beauty of bmw 3 series is that there are s...</td>\n",
       "    </tr>\n",
       "  </tbody>\n",
       "</table>\n",
       "</div>"
      ],
      "text/plain": [
       "                     Date                                           comments\n",
       "0  March 24, 2002 10:54PM  i personally think that with a few tweaks the ...\n",
       "1  March 25, 2002 12:06AM  i am debating a new purchase and these two are...\n",
       "2  March 25, 2002 10:02AM  great handling, rwd, excellent engine and the ...\n",
       "3   March 25, 2002 4:04PM  and no manual tranny. that may not matter to y...\n",
       "4   March 25, 2002 5:44PM  one beauty of bmw 3 series is that there are s..."
      ]
     },
     "metadata": {},
     "execution_count": 2
    }
   ],
   "metadata": {}
  },
  {
   "cell_type": "code",
   "execution_count": 3,
   "source": [
    "top10 = ['audi','mercedes','mazda','bmw','nissan','volvo','ford','hyundai','volkswagen','toyota']\n",
    "freq_count = {}\n",
    "for brands in top10:\n",
    "    freq_count[brands] = 0"
   ],
   "outputs": [],
   "metadata": {}
  },
  {
   "cell_type": "code",
   "execution_count": 4,
   "source": [
    "freq_count = {}\n",
    "for brand in top10:\n",
    "    freq_count[brand] = sum(corpus.comments.str.contains(brand))\n",
    "freq_count"
   ],
   "outputs": [
    {
     "output_type": "execute_result",
     "data": {
      "text/plain": [
       "{'audi': 337,\n",
       " 'mercedes': 162,\n",
       " 'mazda': 82,\n",
       " 'bmw': 1229,\n",
       " 'nissan': 205,\n",
       " 'volvo': 127,\n",
       " 'ford': 168,\n",
       " 'hyundai': 77,\n",
       " 'volkswagen': 18,\n",
       " 'toyota': 136}"
      ]
     },
     "metadata": {},
     "execution_count": 4
    }
   ],
   "metadata": {}
  },
  {
   "cell_type": "code",
   "execution_count": 5,
   "source": [
    "def SimultaneousCount(brand1: str, brand2: str):\n",
    "    return corpus[\"comments\"].apply(lambda x: (all(t in x for t in [brand1, brand2])))\n",
    "\n",
    "sum(SimultaneousCount(\"bmw\",\"nissan\"))"
   ],
   "outputs": [
    {
     "output_type": "execute_result",
     "data": {
      "text/plain": [
       "74"
      ]
     },
     "metadata": {},
     "execution_count": 5
    }
   ],
   "metadata": {}
  },
  {
   "cell_type": "code",
   "execution_count": 6,
   "source": [
    "Lift = pd.DataFrame(index=top10, columns=top10)\n",
    "\n",
    "for brand1 in top10:\n",
    "    for brand2 in top10:\n",
    "        N_ab = sum(SimultaneousCount(brand1, brand2))\n",
    "\n",
    "        Lift[brand1][brand2] = (N*N_ab)/(freq_count[brand1]*freq_count[brand2])\n",
    "        if(brand1 == brand2):\n",
    "            Lift[brand1][brand2] = 1\n",
    "\n",
    "Lift.to_csv(\"./output/lift.csv\")\n",
    "Lift"
   ],
   "outputs": [
    {
     "output_type": "execute_result",
     "data": {
      "text/html": [
       "<div>\n",
       "<style scoped>\n",
       "    .dataframe tbody tr th:only-of-type {\n",
       "        vertical-align: middle;\n",
       "    }\n",
       "\n",
       "    .dataframe tbody tr th {\n",
       "        vertical-align: top;\n",
       "    }\n",
       "\n",
       "    .dataframe thead th {\n",
       "        text-align: right;\n",
       "    }\n",
       "</style>\n",
       "<table border=\"1\" class=\"dataframe\">\n",
       "  <thead>\n",
       "    <tr style=\"text-align: right;\">\n",
       "      <th></th>\n",
       "      <th>audi</th>\n",
       "      <th>mercedes</th>\n",
       "      <th>mazda</th>\n",
       "      <th>bmw</th>\n",
       "      <th>nissan</th>\n",
       "      <th>volvo</th>\n",
       "      <th>ford</th>\n",
       "      <th>hyundai</th>\n",
       "      <th>volkswagen</th>\n",
       "      <th>toyota</th>\n",
       "    </tr>\n",
       "  </thead>\n",
       "  <tbody>\n",
       "    <tr>\n",
       "      <th>audi</th>\n",
       "      <td>1</td>\n",
       "      <td>4.201121</td>\n",
       "      <td>2.526019</td>\n",
       "      <td>2.347497</td>\n",
       "      <td>1.515611</td>\n",
       "      <td>5.35891</td>\n",
       "      <td>2.377808</td>\n",
       "      <td>0.960731</td>\n",
       "      <td>9.041543</td>\n",
       "      <td>1.631829</td>\n",
       "    </tr>\n",
       "    <tr>\n",
       "      <th>mercedes</th>\n",
       "      <td>4.201121</td>\n",
       "      <td>1</td>\n",
       "      <td>1.501355</td>\n",
       "      <td>2.153693</td>\n",
       "      <td>2.252033</td>\n",
       "      <td>7.270341</td>\n",
       "      <td>2.931217</td>\n",
       "      <td>2.79798</td>\n",
       "      <td>11.969136</td>\n",
       "      <td>2.263072</td>\n",
       "    </tr>\n",
       "    <tr>\n",
       "      <th>mazda</th>\n",
       "      <td>2.526019</td>\n",
       "      <td>1.501355</td>\n",
       "      <td>1</td>\n",
       "      <td>1.731628</td>\n",
       "      <td>4.449137</td>\n",
       "      <td>6.224121</td>\n",
       "      <td>4.343206</td>\n",
       "      <td>3.948369</td>\n",
       "      <td>20.268293</td>\n",
       "      <td>6.70642</td>\n",
       "    </tr>\n",
       "    <tr>\n",
       "      <th>bmw</th>\n",
       "      <td>2.347497</td>\n",
       "      <td>2.153693</td>\n",
       "      <td>1.731628</td>\n",
       "      <td>1</td>\n",
       "      <td>1.464462</td>\n",
       "      <td>1.75695</td>\n",
       "      <td>1.569656</td>\n",
       "      <td>1.317194</td>\n",
       "      <td>2.930024</td>\n",
       "      <td>1.312545</td>\n",
       "    </tr>\n",
       "    <tr>\n",
       "      <th>nissan</th>\n",
       "      <td>1.515611</td>\n",
       "      <td>2.252033</td>\n",
       "      <td>4.449137</td>\n",
       "      <td>1.464462</td>\n",
       "      <td>1</td>\n",
       "      <td>4.787786</td>\n",
       "      <td>2.46115</td>\n",
       "      <td>2.842825</td>\n",
       "      <td>5.404878</td>\n",
       "      <td>8.40538</td>\n",
       "    </tr>\n",
       "    <tr>\n",
       "      <th>volvo</th>\n",
       "      <td>5.35891</td>\n",
       "      <td>7.270341</td>\n",
       "      <td>6.224121</td>\n",
       "      <td>1.75695</td>\n",
       "      <td>4.787786</td>\n",
       "      <td>1</td>\n",
       "      <td>4.206412</td>\n",
       "      <td>1.529604</td>\n",
       "      <td>13.086614</td>\n",
       "      <td>4.33013</td>\n",
       "    </tr>\n",
       "    <tr>\n",
       "      <th>ford</th>\n",
       "      <td>2.377808</td>\n",
       "      <td>2.931217</td>\n",
       "      <td>4.343206</td>\n",
       "      <td>1.569656</td>\n",
       "      <td>2.46115</td>\n",
       "      <td>4.206412</td>\n",
       "      <td>1</td>\n",
       "      <td>5.010668</td>\n",
       "      <td>6.595238</td>\n",
       "      <td>3.273372</td>\n",
       "    </tr>\n",
       "    <tr>\n",
       "      <th>hyundai</th>\n",
       "      <td>0.960731</td>\n",
       "      <td>2.79798</td>\n",
       "      <td>3.948369</td>\n",
       "      <td>1.317194</td>\n",
       "      <td>2.842825</td>\n",
       "      <td>1.529604</td>\n",
       "      <td>5.010668</td>\n",
       "      <td>1</td>\n",
       "      <td>7.194805</td>\n",
       "      <td>8.094156</td>\n",
       "    </tr>\n",
       "    <tr>\n",
       "      <th>volkswagen</th>\n",
       "      <td>9.041543</td>\n",
       "      <td>11.969136</td>\n",
       "      <td>20.268293</td>\n",
       "      <td>2.930024</td>\n",
       "      <td>5.404878</td>\n",
       "      <td>13.086614</td>\n",
       "      <td>6.595238</td>\n",
       "      <td>7.194805</td>\n",
       "      <td>1</td>\n",
       "      <td>8.147059</td>\n",
       "    </tr>\n",
       "    <tr>\n",
       "      <th>toyota</th>\n",
       "      <td>1.631829</td>\n",
       "      <td>2.263072</td>\n",
       "      <td>6.70642</td>\n",
       "      <td>1.312545</td>\n",
       "      <td>8.40538</td>\n",
       "      <td>4.33013</td>\n",
       "      <td>3.273372</td>\n",
       "      <td>8.094156</td>\n",
       "      <td>8.147059</td>\n",
       "      <td>1</td>\n",
       "    </tr>\n",
       "  </tbody>\n",
       "</table>\n",
       "</div>"
      ],
      "text/plain": [
       "                audi   mercedes      mazda       bmw    nissan      volvo  \\\n",
       "audi               1   4.201121   2.526019  2.347497  1.515611    5.35891   \n",
       "mercedes    4.201121          1   1.501355  2.153693  2.252033   7.270341   \n",
       "mazda       2.526019   1.501355          1  1.731628  4.449137   6.224121   \n",
       "bmw         2.347497   2.153693   1.731628         1  1.464462    1.75695   \n",
       "nissan      1.515611   2.252033   4.449137  1.464462         1   4.787786   \n",
       "volvo        5.35891   7.270341   6.224121   1.75695  4.787786          1   \n",
       "ford        2.377808   2.931217   4.343206  1.569656   2.46115   4.206412   \n",
       "hyundai     0.960731    2.79798   3.948369  1.317194  2.842825   1.529604   \n",
       "volkswagen  9.041543  11.969136  20.268293  2.930024  5.404878  13.086614   \n",
       "toyota      1.631829   2.263072    6.70642  1.312545   8.40538    4.33013   \n",
       "\n",
       "                ford   hyundai volkswagen    toyota  \n",
       "audi        2.377808  0.960731   9.041543  1.631829  \n",
       "mercedes    2.931217   2.79798  11.969136  2.263072  \n",
       "mazda       4.343206  3.948369  20.268293   6.70642  \n",
       "bmw         1.569656  1.317194   2.930024  1.312545  \n",
       "nissan       2.46115  2.842825   5.404878   8.40538  \n",
       "volvo       4.206412  1.529604  13.086614   4.33013  \n",
       "ford               1  5.010668   6.595238  3.273372  \n",
       "hyundai     5.010668         1   7.194805  8.094156  \n",
       "volkswagen  6.595238  7.194805          1  8.147059  \n",
       "toyota      3.273372  8.094156   8.147059         1  "
      ]
     },
     "metadata": {},
     "execution_count": 6
    }
   ],
   "metadata": {}
  },
  {
   "cell_type": "code",
   "execution_count": 7,
   "source": [
    "a = np.array(Lift)\n",
    "np.alltrue(a == a.T)\n",
    "# Lift is Symmetric"
   ],
   "outputs": [
    {
     "output_type": "execute_result",
     "data": {
      "text/plain": [
       "True"
      ]
     },
     "metadata": {},
     "execution_count": 7
    }
   ],
   "metadata": {}
  },
  {
   "cell_type": "markdown",
   "source": [
    "***"
   ],
   "metadata": {}
  }
 ],
 "metadata": {
  "orig_nbformat": 4,
  "language_info": {
   "name": "python",
   "version": "3.9.6",
   "mimetype": "text/x-python",
   "codemirror_mode": {
    "name": "ipython",
    "version": 3
   },
   "pygments_lexer": "ipython3",
   "nbconvert_exporter": "python",
   "file_extension": ".py"
  },
  "kernelspec": {
   "name": "python3",
   "display_name": "Python 3.9.6 64-bit ('mis-284n': conda)"
  },
  "interpreter": {
   "hash": "4ff5cf590a1211141850067b7be7ddbced36f8319e8ee97286c1fbd0c81975fa"
  }
 },
 "nbformat": 4,
 "nbformat_minor": 2
}