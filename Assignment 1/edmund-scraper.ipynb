{
 "cells": [
  {
   "cell_type": "markdown",
   "source": [
    "# Scapre Comments from Edmund"
   ],
   "metadata": {}
  },
  {
   "cell_type": "code",
   "execution_count": 1,
   "source": [
    "from selenium import webdriver\n",
    "import pandas as pd\n",
    "from tqdm import tqdm"
   ],
   "outputs": [],
   "metadata": {}
  },
  {
   "cell_type": "code",
   "execution_count": 2,
   "source": [
    "webDriverLocation = 'utils/chromedriver'\n",
    "driver = webdriver.Chrome(executable_path = webDriverLocation)"
   ],
   "outputs": [],
   "metadata": {}
  },
  {
   "cell_type": "markdown",
   "source": [
    "//*[@id=\"PagerBefore\"]/a[9]"
   ],
   "metadata": {}
  },
  {
   "cell_type": "code",
   "execution_count": 3,
   "source": [
    "size = 10\n",
    "pages = (int)((size*1.1/50)+1) + 1\n",
    "print(\"Pages to scrape:\",pages)\n",
    "\n",
    "comments = pd.DataFrame(columns = ['Date','user_id','comments']) "
   ],
   "outputs": [
    {
     "output_type": "stream",
     "name": "stdout",
     "text": [
      "Pages to scrape: 2\n"
     ]
    }
   ],
   "metadata": {}
  },
  {
   "cell_type": "code",
   "execution_count": 4,
   "source": [
    "for i in tqdm(range(1,pages)):\n",
    "    comment_url = \"https://forums.edmunds.com/discussion/2864/general/x/entry-level-luxury-performance-sedans/p{}\".format(i)\n",
    "    driver.get(comment_url)\n",
    "    ids = driver.find_elements_by_xpath(\"//*[contains(@id,'Comment_')]\")\n",
    "    for j in ids:\n",
    "        x = j.get_attribute('id')\n",
    "        #Extract dates from for each user on a page\n",
    "        user_date = driver.find_elements_by_xpath('//*[@id=\"' + x +'\"]/div/div[2]/div[2]/span[1]/a/time')[0]\n",
    "        date = user_date.get_attribute('title')\n",
    "\n",
    "        #Extract user ids from each user on a page\n",
    "        userid_element = driver.find_elements_by_xpath('//*[@id=\"' + x +'\"]/div/div[2]/div[1]/span[1]/a[2]')[0]\n",
    "        userid = userid_element.text\n",
    "\n",
    "        #Extract Message for each user on a page\n",
    "        user_message = driver.find_elements_by_xpath('//*[@id=\"' + x +'\"]/div/div[3]/div/div[1]')[0]\n",
    "        comment = user_message.text\n",
    "                                    \n",
    "        #Adding date, userid and comment for each user in a dataframe    \n",
    "        comments.loc[len(comments)] = [date,userid,comment]\n",
    "        "
   ],
   "outputs": [
    {
     "output_type": "stream",
     "name": "stderr",
     "text": [
      "100%|██████████| 1/1 [00:09<00:00,  9.41s/it]\n"
     ]
    }
   ],
   "metadata": {}
  },
  {
   "cell_type": "code",
   "execution_count": 5,
   "source": [
    "driver.close()\n",
    "comments.dropna(inplace=True)\n",
    "comments = comments[0:size]\n",
    "print(comments.shape)\n",
    "comments"
   ],
   "outputs": [
    {
     "output_type": "stream",
     "name": "stdout",
     "text": [
      "(10, 3)\n"
     ]
    },
    {
     "output_type": "execute_result",
     "data": {
      "text/html": [
       "<div>\n",
       "<style scoped>\n",
       "    .dataframe tbody tr th:only-of-type {\n",
       "        vertical-align: middle;\n",
       "    }\n",
       "\n",
       "    .dataframe tbody tr th {\n",
       "        vertical-align: top;\n",
       "    }\n",
       "\n",
       "    .dataframe thead th {\n",
       "        text-align: right;\n",
       "    }\n",
       "</style>\n",
       "<table border=\"1\" class=\"dataframe\">\n",
       "  <thead>\n",
       "    <tr style=\"text-align: right;\">\n",
       "      <th></th>\n",
       "      <th>Date</th>\n",
       "      <th>user_id</th>\n",
       "      <th>comments</th>\n",
       "    </tr>\n",
       "  </thead>\n",
       "  <tbody>\n",
       "    <tr>\n",
       "      <th>0</th>\n",
       "      <td>March 24, 2002 10:54PM</td>\n",
       "      <td>merc1</td>\n",
       "      <td>I personally think that with a few tweaks the ...</td>\n",
       "    </tr>\n",
       "    <tr>\n",
       "      <th>1</th>\n",
       "      <td>March 25, 2002 12:06AM</td>\n",
       "      <td>fredvh</td>\n",
       "      <td>I am debating a new purchase and these two are...</td>\n",
       "    </tr>\n",
       "    <tr>\n",
       "      <th>2</th>\n",
       "      <td>March 25, 2002 10:02AM</td>\n",
       "      <td>blueguydotcom</td>\n",
       "      <td>Great handling, RWD, excellent engine and the ...</td>\n",
       "    </tr>\n",
       "    <tr>\n",
       "      <th>3</th>\n",
       "      <td>March 25, 2002 4:04PM</td>\n",
       "      <td>hungrywhale</td>\n",
       "      <td>And no manual tranny. That may not matter to y...</td>\n",
       "    </tr>\n",
       "    <tr>\n",
       "      <th>4</th>\n",
       "      <td>March 25, 2002 5:44PM</td>\n",
       "      <td>riez</td>\n",
       "      <td>One beauty of BMW 3 Series is that there are s...</td>\n",
       "    </tr>\n",
       "    <tr>\n",
       "      <th>5</th>\n",
       "      <td>March 26, 2002 1:20PM</td>\n",
       "      <td>blueguydotcom</td>\n",
       "      <td>good grief, so you wait 9 months for the manua...</td>\n",
       "    </tr>\n",
       "    <tr>\n",
       "      <th>6</th>\n",
       "      <td>March 26, 2002 2:02PM</td>\n",
       "      <td>hungrywhale</td>\n",
       "      <td>I'll give it a fair shot when the manual comes...</td>\n",
       "    </tr>\n",
       "    <tr>\n",
       "      <th>7</th>\n",
       "      <td>March 26, 2002 2:45PM</td>\n",
       "      <td>blueguydotcom</td>\n",
       "      <td>I understand it's not about the speed. I reall...</td>\n",
       "    </tr>\n",
       "    <tr>\n",
       "      <th>8</th>\n",
       "      <td>March 26, 2002 5:00PM</td>\n",
       "      <td>hungrywhale</td>\n",
       "      <td>It sounds like you know why I won't even put i...</td>\n",
       "    </tr>\n",
       "    <tr>\n",
       "      <th>9</th>\n",
       "      <td>March 26, 2002 7:00PM</td>\n",
       "      <td>riez</td>\n",
       "      <td>Is there such a thing as an automatic-only tru...</td>\n",
       "    </tr>\n",
       "  </tbody>\n",
       "</table>\n",
       "</div>"
      ],
      "text/plain": [
       "                     Date        user_id  \\\n",
       "0  March 24, 2002 10:54PM          merc1   \n",
       "1  March 25, 2002 12:06AM         fredvh   \n",
       "2  March 25, 2002 10:02AM  blueguydotcom   \n",
       "3   March 25, 2002 4:04PM    hungrywhale   \n",
       "4   March 25, 2002 5:44PM           riez   \n",
       "5   March 26, 2002 1:20PM  blueguydotcom   \n",
       "6   March 26, 2002 2:02PM    hungrywhale   \n",
       "7   March 26, 2002 2:45PM  blueguydotcom   \n",
       "8   March 26, 2002 5:00PM    hungrywhale   \n",
       "9   March 26, 2002 7:00PM           riez   \n",
       "\n",
       "                                            comments  \n",
       "0  I personally think that with a few tweaks the ...  \n",
       "1  I am debating a new purchase and these two are...  \n",
       "2  Great handling, RWD, excellent engine and the ...  \n",
       "3  And no manual tranny. That may not matter to y...  \n",
       "4  One beauty of BMW 3 Series is that there are s...  \n",
       "5  good grief, so you wait 9 months for the manua...  \n",
       "6  I'll give it a fair shot when the manual comes...  \n",
       "7  I understand it's not about the speed. I reall...  \n",
       "8  It sounds like you know why I won't even put i...  \n",
       "9  Is there such a thing as an automatic-only tru...  "
      ]
     },
     "metadata": {},
     "execution_count": 5
    }
   ],
   "metadata": {}
  },
  {
   "cell_type": "code",
   "execution_count": null,
   "source": [
    "comments.to_csv(\"./output/edmunds_comments_{a}.csv\".format(a = size))"
   ],
   "outputs": [],
   "metadata": {}
  }
 ],
 "metadata": {
  "orig_nbformat": 4,
  "language_info": {
   "name": "python",
   "version": "3.9.6",
   "mimetype": "text/x-python",
   "codemirror_mode": {
    "name": "ipython",
    "version": 3
   },
   "pygments_lexer": "ipython3",
   "nbconvert_exporter": "python",
   "file_extension": ".py"
  },
  "kernelspec": {
   "name": "python3",
   "display_name": "Python 3.9.6 64-bit ('mis-284n': conda)"
  },
  "interpreter": {
   "hash": "4ff5cf590a1211141850067b7be7ddbced36f8319e8ee97286c1fbd0c81975fa"
  }
 },
 "nbformat": 4,
 "nbformat_minor": 2
}