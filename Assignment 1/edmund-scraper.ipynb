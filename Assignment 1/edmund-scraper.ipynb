{
 "cells": [
  {
   "cell_type": "markdown",
   "source": [],
   "metadata": {}
  },
  {
   "cell_type": "code",
   "execution_count": 25,
   "source": [
    "from bs4 import BeautifulSoup\n",
    "from selenium import webdriver\n",
    "import requests\n",
    "from time import sleep\n",
    "import numpy as np\n",
    "import pandas as pd\n",
    "import time\n",
    "from tqdm import tqdm\n",
    "# import shutil # For image download\n",
    "import datetime"
   ],
   "outputs": [],
   "metadata": {}
  },
  {
   "cell_type": "code",
   "execution_count": 26,
   "source": [
    "webDriverLocation = '/Users/rchaks/Documents/GitHub/mis-2814n-analytics-for-unstructured-data/chromedriver'"
   ],
   "outputs": [],
   "metadata": {}
  },
  {
   "cell_type": "code",
   "execution_count": 27,
   "source": [
    "driver = webdriver.Chrome(executable_path = webDriverLocation)\n",
    "url = \"https://forums.edmunds.com/discussion/2864/general/x/entry-level-luxury-performance-sedans\"\n",
    "driver.get(url)"
   ],
   "outputs": [],
   "metadata": {}
  },
  {
   "cell_type": "markdown",
   "source": [
    "//*[@id=\"PagerBefore\"]/a[9]"
   ],
   "metadata": {}
  },
  {
   "cell_type": "code",
   "execution_count": 28,
   "source": [
    "comments = pd.DataFrame(columns = ['Date','user_id','comments']) \n",
    "ids = driver.find_elements_by_xpath(\"//*[contains(@id,'Comment_')]\")\n",
    "\n",
    "comment_ids = []\n",
    "for i in ids:\n",
    "  comment_ids.append(i.get_attribute('id'))"
   ],
   "outputs": [],
   "metadata": {}
  },
  {
   "cell_type": "code",
   "execution_count": 29,
   "source": [
    "for i in tqdm(range(1,11)):\n",
    "    comment_url = \"https://forums.edmunds.com/discussion/2864/general/x/entry-level-luxury-performance-sedans/p{}\".format(i)\n",
    "    driver.get(comment_url)\n",
    "    ids = driver.find_elements_by_xpath(\"//*[contains(@id,'Comment_')]\")\n",
    "    for j in ids:\n",
    "        x = j.get_attribute('id')\n",
    "        #Extract dates from for each user on a page\n",
    "        user_date = driver.find_elements_by_xpath('//*[@id=\"' + x +'\"]/div/div[2]/div[2]/span[1]/a/time')[0]\n",
    "        date = user_date.get_attribute('title')\n",
    "\n",
    "        #Extract user ids from each user on a page\n",
    "        userid_element = driver.find_elements_by_xpath('//*[@id=\"' + x +'\"]/div/div[2]/div[1]/span[1]/a[2]')[0]\n",
    "        userid = userid_element.text\n",
    "\n",
    "        #Extract Message for each user on a page\n",
    "        user_message = driver.find_elements_by_xpath('//*[@id=\"' + x +'\"]/div/div[3]/div/div[1]')[0]\n",
    "        comment = user_message.text\n",
    "                                    \n",
    "        #Adding date, userid and comment for each user in a dataframe    \n",
    "        comments.loc[len(comments)] = [date,userid,comment]\n",
    "        "
   ],
   "outputs": [
    {
     "output_type": "stream",
     "name": "stderr",
     "text": [
      "100%|██████████| 10/10 [01:08<00:00,  6.81s/it]\n"
     ]
    }
   ],
   "metadata": {}
  },
  {
   "cell_type": "code",
   "execution_count": 30,
   "source": [
    "print(comments.shape)\n",
    "driver.close()\n",
    "comments"
   ],
   "outputs": [
    {
     "output_type": "stream",
     "name": "stdout",
     "text": [
      "(500, 3)\n"
     ]
    },
    {
     "output_type": "execute_result",
     "data": {
      "text/html": [
       "<div>\n",
       "<style scoped>\n",
       "    .dataframe tbody tr th:only-of-type {\n",
       "        vertical-align: middle;\n",
       "    }\n",
       "\n",
       "    .dataframe tbody tr th {\n",
       "        vertical-align: top;\n",
       "    }\n",
       "\n",
       "    .dataframe thead th {\n",
       "        text-align: right;\n",
       "    }\n",
       "</style>\n",
       "<table border=\"1\" class=\"dataframe\">\n",
       "  <thead>\n",
       "    <tr style=\"text-align: right;\">\n",
       "      <th></th>\n",
       "      <th>Date</th>\n",
       "      <th>user_id</th>\n",
       "      <th>comments</th>\n",
       "    </tr>\n",
       "  </thead>\n",
       "  <tbody>\n",
       "    <tr>\n",
       "      <th>0</th>\n",
       "      <td>March 24, 2002 10:54PM</td>\n",
       "      <td>merc1</td>\n",
       "      <td>I personally think that with a few tweaks the ...</td>\n",
       "    </tr>\n",
       "    <tr>\n",
       "      <th>1</th>\n",
       "      <td>March 25, 2002 12:06AM</td>\n",
       "      <td>fredvh</td>\n",
       "      <td>I am debating a new purchase and these two are...</td>\n",
       "    </tr>\n",
       "    <tr>\n",
       "      <th>2</th>\n",
       "      <td>March 25, 2002 10:02AM</td>\n",
       "      <td>blueguydotcom</td>\n",
       "      <td>Great handling, RWD, excellent engine and the ...</td>\n",
       "    </tr>\n",
       "    <tr>\n",
       "      <th>3</th>\n",
       "      <td>March 25, 2002 4:04PM</td>\n",
       "      <td>hungrywhale</td>\n",
       "      <td>And no manual tranny. That may not matter to y...</td>\n",
       "    </tr>\n",
       "    <tr>\n",
       "      <th>4</th>\n",
       "      <td>March 25, 2002 5:44PM</td>\n",
       "      <td>riez</td>\n",
       "      <td>One beauty of BMW 3 Series is that there are s...</td>\n",
       "    </tr>\n",
       "    <tr>\n",
       "      <th>...</th>\n",
       "      <td>...</td>\n",
       "      <td>...</td>\n",
       "      <td>...</td>\n",
       "    </tr>\n",
       "    <tr>\n",
       "      <th>495</th>\n",
       "      <td>January 10, 2004 1:33PM</td>\n",
       "      <td>saugatak</td>\n",
       "      <td>riez, i agree with you 100%. you can't even ju...</td>\n",
       "    </tr>\n",
       "    <tr>\n",
       "      <th>496</th>\n",
       "      <td>January 11, 2004 6:47AM</td>\n",
       "      <td>kdshapiro</td>\n",
       "      <td>\"others don't have much but put all their cash...</td>\n",
       "    </tr>\n",
       "    <tr>\n",
       "      <th>497</th>\n",
       "      <td>January 15, 2004 8:58AM</td>\n",
       "      <td>mohatu</td>\n",
       "      <td>What a rhetorical question... Of course, it's ...</td>\n",
       "    </tr>\n",
       "    <tr>\n",
       "      <th>498</th>\n",
       "      <td>January 15, 2004 9:33AM</td>\n",
       "      <td>kdshapiro</td>\n",
       "      <td>\"What a rhetorical question... Of course, it's...</td>\n",
       "    </tr>\n",
       "    <tr>\n",
       "      <th>499</th>\n",
       "      <td>January 15, 2004 9:46AM</td>\n",
       "      <td>shipo</td>\n",
       "      <td>I'm hoping to be old, rich, healthy, driving a...</td>\n",
       "    </tr>\n",
       "  </tbody>\n",
       "</table>\n",
       "<p>500 rows × 3 columns</p>\n",
       "</div>"
      ],
      "text/plain": [
       "                        Date        user_id  \\\n",
       "0     March 24, 2002 10:54PM          merc1   \n",
       "1     March 25, 2002 12:06AM         fredvh   \n",
       "2     March 25, 2002 10:02AM  blueguydotcom   \n",
       "3      March 25, 2002 4:04PM    hungrywhale   \n",
       "4      March 25, 2002 5:44PM           riez   \n",
       "..                       ...            ...   \n",
       "495  January 10, 2004 1:33PM       saugatak   \n",
       "496  January 11, 2004 6:47AM      kdshapiro   \n",
       "497  January 15, 2004 8:58AM         mohatu   \n",
       "498  January 15, 2004 9:33AM      kdshapiro   \n",
       "499  January 15, 2004 9:46AM          shipo   \n",
       "\n",
       "                                              comments  \n",
       "0    I personally think that with a few tweaks the ...  \n",
       "1    I am debating a new purchase and these two are...  \n",
       "2    Great handling, RWD, excellent engine and the ...  \n",
       "3    And no manual tranny. That may not matter to y...  \n",
       "4    One beauty of BMW 3 Series is that there are s...  \n",
       "..                                                 ...  \n",
       "495  riez, i agree with you 100%. you can't even ju...  \n",
       "496  \"others don't have much but put all their cash...  \n",
       "497  What a rhetorical question... Of course, it's ...  \n",
       "498  \"What a rhetorical question... Of course, it's...  \n",
       "499  I'm hoping to be old, rich, healthy, driving a...  \n",
       "\n",
       "[500 rows x 3 columns]"
      ]
     },
     "metadata": {},
     "execution_count": 30
    }
   ],
   "metadata": {}
  },
  {
   "cell_type": "code",
   "execution_count": 31,
   "source": [
    "import time\n",
    "time.time()\n",
    "comments.to_csv(\"./edmunds_comments_small_2.csv\")\n",
    "# comments.to_csv(\"./edmunds_comments_lrg_{}.csv\".format(time.time()))"
   ],
   "outputs": [],
   "metadata": {}
  }
 ],
 "metadata": {
  "orig_nbformat": 4,
  "language_info": {
   "name": "python",
   "version": "3.9.6",
   "mimetype": "text/x-python",
   "codemirror_mode": {
    "name": "ipython",
    "version": 3
   },
   "pygments_lexer": "ipython3",
   "nbconvert_exporter": "python",
   "file_extension": ".py"
  },
  "kernelspec": {
   "name": "python3",
   "display_name": "Python 3.9.6 64-bit ('mis-284n': conda)"
  },
  "interpreter": {
   "hash": "4ff5cf590a1211141850067b7be7ddbced36f8319e8ee97286c1fbd0c81975fa"
  }
 },
 "nbformat": 4,
 "nbformat_minor": 2
}