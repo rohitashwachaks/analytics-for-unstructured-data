{
 "cells": [
  {
   "cell_type": "markdown",
   "source": [],
   "metadata": {}
  },
  {
   "cell_type": "code",
   "execution_count": 5,
   "source": [
    "from bs4 import BeautifulSoup\n",
    "from selenium import webdriver\n",
    "import requests\n",
    "from time import sleep\n",
    "import numpy as np\n",
    "import pandas as pd\n",
    "import time\n",
    "# import shutil # For image download\n",
    "import datetime"
   ],
   "outputs": [],
   "metadata": {}
  },
  {
   "cell_type": "code",
   "execution_count": 17,
   "source": [
    "webDriverLocation = '/Users/rchaks/Documents/GitHub/mis-2814n-analytics-for-unstructured-data/chromedriver'"
   ],
   "outputs": [],
   "metadata": {}
  },
  {
   "cell_type": "code",
   "execution_count": 18,
   "source": [
    "driver = webdriver.Chrome(executable_path = webDriverLocation)\n",
    "url = \"https://forums.edmunds.com/discussion/2864/general/x/entry-level-luxury-performance-sedans\"\n",
    "driver.get(url)"
   ],
   "outputs": [],
   "metadata": {}
  },
  {
   "cell_type": "code",
   "execution_count": null,
   "source": [],
   "outputs": [],
   "metadata": {}
  }
 ],
 "metadata": {
  "orig_nbformat": 4,
  "language_info": {
   "name": "python",
   "version": "3.9.6",
   "mimetype": "text/x-python",
   "codemirror_mode": {
    "name": "ipython",
    "version": 3
   },
   "pygments_lexer": "ipython3",
   "nbconvert_exporter": "python",
   "file_extension": ".py"
  },
  "kernelspec": {
   "name": "python3",
   "display_name": "Python 3.9.6 64-bit ('mis-284n': conda)"
  },
  "interpreter": {
   "hash": "4ff5cf590a1211141850067b7be7ddbced36f8319e8ee97286c1fbd0c81975fa"
  }
 },
 "nbformat": 4,
 "nbformat_minor": 2
}