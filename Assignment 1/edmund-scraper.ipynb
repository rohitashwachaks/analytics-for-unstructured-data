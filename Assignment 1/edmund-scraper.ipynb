{
 "cells": [
  {
   "cell_type": "markdown",
   "source": [
    "# Scapre Comments from Edmund"
   ],
   "metadata": {}
  },
  {
   "cell_type": "code",
   "execution_count": null,
   "source": [
    "from selenium import webdriver\n",
    "import pandas as pd\n",
    "from tqdm import tqdm"
   ],
   "outputs": [],
   "metadata": {}
  },
  {
   "cell_type": "code",
   "execution_count": null,
   "source": [
    "webDriverLocation = '/Users/rchaks/Documents/GitHub/mis-2814n-analytics-for-unstructured-data/chromedriver'\n",
    "driver = webdriver.Chrome(executable_path = webDriverLocation)"
   ],
   "outputs": [],
   "metadata": {}
  },
  {
   "cell_type": "markdown",
   "source": [
    "//*[@id=\"PagerBefore\"]/a[9]"
   ],
   "metadata": {}
  },
  {
   "cell_type": "code",
   "execution_count": null,
   "source": [
    "size = 10\n",
    "pages = (int)((size*1.1/50)+1) + 1\n",
    "print(\"Pages to scrape:\",pages)\n",
    "\n",
    "comments = pd.DataFrame(columns = ['Date','user_id','comments']) "
   ],
   "outputs": [],
   "metadata": {}
  },
  {
   "cell_type": "code",
   "execution_count": null,
   "source": [
    "for i in tqdm(range(1,pages)):\n",
    "    comment_url = \"https://forums.edmunds.com/discussion/2864/general/x/entry-level-luxury-performance-sedans/p{}\".format(i)\n",
    "    driver.get(comment_url)\n",
    "    ids = driver.find_elements_by_xpath(\"//*[contains(@id,'Comment_')]\")\n",
    "    for j in ids:\n",
    "        x = j.get_attribute('id')\n",
    "        #Extract dates from for each user on a page\n",
    "        user_date = driver.find_elements_by_xpath('//*[@id=\"' + x +'\"]/div/div[2]/div[2]/span[1]/a/time')[0]\n",
    "        date = user_date.get_attribute('title')\n",
    "\n",
    "        #Extract user ids from each user on a page\n",
    "        userid_element = driver.find_elements_by_xpath('//*[@id=\"' + x +'\"]/div/div[2]/div[1]/span[1]/a[2]')[0]\n",
    "        userid = userid_element.text\n",
    "\n",
    "        #Extract Message for each user on a page\n",
    "        user_message = driver.find_elements_by_xpath('//*[@id=\"' + x +'\"]/div/div[3]/div/div[1]')[0]\n",
    "        comment = user_message.text\n",
    "                                    \n",
    "        #Adding date, userid and comment for each user in a dataframe    \n",
    "        comments.loc[len(comments)] = [date,userid,comment]\n",
    "        "
   ],
   "outputs": [],
   "metadata": {}
  },
  {
   "cell_type": "code",
   "execution_count": null,
   "source": [
    "driver.close()\n",
    "comments.dropna(inplace=True)\n",
    "comments = comments[0:size]\n",
    "print(comments.shape)\n",
    "comments"
   ],
   "outputs": [],
   "metadata": {}
  },
  {
   "cell_type": "code",
   "execution_count": null,
   "source": [
    "comments.to_csv(\"./output/edmunds_comments_{a}.csv\".format(a = size))"
   ],
   "outputs": [],
   "metadata": {}
  }
 ],
 "metadata": {
  "orig_nbformat": 4,
  "language_info": {
   "name": "python",
   "version": "3.9.6",
   "mimetype": "text/x-python",
   "codemirror_mode": {
    "name": "ipython",
    "version": 3
   },
   "pygments_lexer": "ipython3",
   "nbconvert_exporter": "python",
   "file_extension": ".py"
  },
  "kernelspec": {
   "name": "python3",
   "display_name": "Python 3.9.6 64-bit ('mis-284n': conda)"
  },
  "interpreter": {
   "hash": "4ff5cf590a1211141850067b7be7ddbced36f8319e8ee97286c1fbd0c81975fa"
  }
 },
 "nbformat": 4,
 "nbformat_minor": 2
}