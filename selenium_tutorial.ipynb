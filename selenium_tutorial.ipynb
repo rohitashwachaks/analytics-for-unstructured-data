{
  "nbformat": 4,
  "nbformat_minor": 0,
  "metadata": {
    "colab": {
      "name": "selenium-tutorial.ipynb",
      "provenance": [],
      "collapsed_sections": []
    },
    "kernelspec": {
      "name": "python3",
      "display_name": "Python 3"
    },
    "language_info": {
      "name": "python"
    },
    "accelerator": "GPU"
  },
  "cells": [
    {
      "cell_type": "code",
      "metadata": {
        "colab": {
          "base_uri": "https://localhost:8080/"
        },
        "id": "Xahra0HYBsCL",
        "outputId": "5d6f5034-0324-42b8-8502-ab1ae386158f"
      },
      "source": [
        "# Use this code if using Colab to run Selenium\n",
        "\n",
        "# Make sure to go to Runtime -> Change runtime and set GPU as hardware accelerator\n",
        "\n",
        "# !kill -9 -1 # Use this line to delete this VM and start a new one. \n",
        "# The above line deletes all files and folders from the current VM and allocates a new one.\n",
        "\n",
        "#Selenium is an open-source tool that automates web browsers.\n",
        "!pip install selenium\n",
        "!apt-get -q update   #Used to handle installation and removal of softwares and libraries\n",
        "!apt install -yq chromium-chromedriver #ChromeDriver is a separate executable that Selenium WebDriver uses to control Chrome.\n",
        "!cp /usr/lib/chromium-browser/chromedriver /usr/bin\n",
        "\n",
        "import sys\n",
        "sys.path.insert(0,'/usr/lib/chromium-browser/chromedriver')\n",
        "from selenium import webdriver \n",
        "#WebDriver is a browser automation framework that works with open source APIs. \n",
        "#The framework operates by accepting commands, sending those commands to a browser, and interacting with applications.\n",
        "chrome_options = webdriver.ChromeOptions()\n",
        "chrome_options.add_argument('--headless')\n",
        "chrome_options.add_argument('--no-sandbox')\n",
        "chrome_options.add_argument('--disable-dev-shm-usage')"
      ],
      "execution_count": null,
      "outputs": [
        {
          "output_type": "stream",
          "name": "stdout",
          "text": [
            "Collecting selenium\n",
            "  Downloading selenium-3.141.0-py2.py3-none-any.whl (904 kB)\n",
            "\u001b[K     |████████████████████████████████| 904 kB 5.3 MB/s \n",
            "\u001b[?25hRequirement already satisfied: urllib3 in /usr/local/lib/python3.7/dist-packages (from selenium) (1.24.3)\n",
            "Installing collected packages: selenium\n",
            "Successfully installed selenium-3.141.0\n",
            "Get:1 http://security.ubuntu.com/ubuntu bionic-security InRelease [88.7 kB]\n",
            "Get:2 https://cloud.r-project.org/bin/linux/ubuntu bionic-cran40/ InRelease [3,626 B]\n",
            "Ign:3 https://developer.download.nvidia.com/compute/cuda/repos/ubuntu1804/x86_64  InRelease\n",
            "Ign:4 https://developer.download.nvidia.com/compute/machine-learning/repos/ubuntu1804/x86_64  InRelease\n",
            "Get:5 https://developer.download.nvidia.com/compute/cuda/repos/ubuntu1804/x86_64  Release [696 B]\n",
            "Get:6 http://ppa.launchpad.net/c2d4u.team/c2d4u4.0+/ubuntu bionic InRelease [15.9 kB]\n",
            "Hit:7 https://developer.download.nvidia.com/compute/machine-learning/repos/ubuntu1804/x86_64  Release\n",
            "Hit:8 http://archive.ubuntu.com/ubuntu bionic InRelease\n",
            "Get:9 https://developer.download.nvidia.com/compute/cuda/repos/ubuntu1804/x86_64  Release.gpg [836 B]\n",
            "Get:10 http://archive.ubuntu.com/ubuntu bionic-updates InRelease [88.7 kB]\n",
            "Hit:11 http://ppa.launchpad.net/cran/libgit2/ubuntu bionic InRelease\n",
            "Get:12 http://security.ubuntu.com/ubuntu bionic-security/main amd64 Packages [2,295 kB]\n",
            "Hit:13 http://ppa.launchpad.net/deadsnakes/ppa/ubuntu bionic InRelease\n",
            "Get:14 http://archive.ubuntu.com/ubuntu bionic-backports InRelease [74.6 kB]\n",
            "Hit:16 http://ppa.launchpad.net/graphics-drivers/ppa/ubuntu bionic InRelease\n",
            "Get:17 https://developer.download.nvidia.com/compute/cuda/repos/ubuntu1804/x86_64  Packages [700 kB]\n",
            "Get:18 http://ppa.launchpad.net/c2d4u.team/c2d4u4.0+/ubuntu bionic/main Sources [1,796 kB]\n",
            "Get:19 http://ppa.launchpad.net/c2d4u.team/c2d4u4.0+/ubuntu bionic/main amd64 Packages [919 kB]\n",
            "Fetched 5,985 kB in 3s (1,864 kB/s)\n",
            "Reading package lists...\n",
            "Reading package lists...\n",
            "Building dependency tree...\n",
            "Reading state information...\n",
            "The following additional packages will be installed:\n",
            "  chromium-browser chromium-browser-l10n chromium-codecs-ffmpeg-extra\n",
            "Suggested packages:\n",
            "  webaccounts-chromium-extension unity-chromium-extension\n",
            "The following NEW packages will be installed:\n",
            "  chromium-browser chromium-browser-l10n chromium-chromedriver\n",
            "  chromium-codecs-ffmpeg-extra\n",
            "0 upgraded, 4 newly installed, 0 to remove and 43 not upgraded.\n",
            "Need to get 91.8 MB of archives.\n",
            "After this operation, 315 MB of additional disk space will be used.\n",
            "Get:1 http://archive.ubuntu.com/ubuntu bionic-updates/universe amd64 chromium-codecs-ffmpeg-extra amd64 92.0.4515.159-0ubuntu0.18.04.1 [1,124 kB]\n",
            "Get:2 http://archive.ubuntu.com/ubuntu bionic-updates/universe amd64 chromium-browser amd64 92.0.4515.159-0ubuntu0.18.04.1 [81.7 MB]\n",
            "Get:3 http://archive.ubuntu.com/ubuntu bionic-updates/universe amd64 chromium-browser-l10n all 92.0.4515.159-0ubuntu0.18.04.1 [4,026 kB]\n",
            "Get:4 http://archive.ubuntu.com/ubuntu bionic-updates/universe amd64 chromium-chromedriver amd64 92.0.4515.159-0ubuntu0.18.04.1 [4,902 kB]\n",
            "Fetched 91.8 MB in 5s (20.1 MB/s)\n",
            "Selecting previously unselected package chromium-codecs-ffmpeg-extra.\n",
            "(Reading database ... 148492 files and directories currently installed.)\n",
            "Preparing to unpack .../chromium-codecs-ffmpeg-extra_92.0.4515.159-0ubuntu0.18.04.1_amd64.deb ...\n",
            "Unpacking chromium-codecs-ffmpeg-extra (92.0.4515.159-0ubuntu0.18.04.1) ...\n",
            "Selecting previously unselected package chromium-browser.\n",
            "Preparing to unpack .../chromium-browser_92.0.4515.159-0ubuntu0.18.04.1_amd64.deb ...\n",
            "Unpacking chromium-browser (92.0.4515.159-0ubuntu0.18.04.1) ...\n",
            "Selecting previously unselected package chromium-browser-l10n.\n",
            "Preparing to unpack .../chromium-browser-l10n_92.0.4515.159-0ubuntu0.18.04.1_all.deb ...\n",
            "Unpacking chromium-browser-l10n (92.0.4515.159-0ubuntu0.18.04.1) ...\n",
            "Selecting previously unselected package chromium-chromedriver.\n",
            "Preparing to unpack .../chromium-chromedriver_92.0.4515.159-0ubuntu0.18.04.1_amd64.deb ...\n",
            "Unpacking chromium-chromedriver (92.0.4515.159-0ubuntu0.18.04.1) ...\n",
            "Setting up chromium-codecs-ffmpeg-extra (92.0.4515.159-0ubuntu0.18.04.1) ...\n",
            "Setting up chromium-browser (92.0.4515.159-0ubuntu0.18.04.1) ...\n",
            "update-alternatives: using /usr/bin/chromium-browser to provide /usr/bin/x-www-browser (x-www-browser) in auto mode\n",
            "update-alternatives: using /usr/bin/chromium-browser to provide /usr/bin/gnome-www-browser (gnome-www-browser) in auto mode\n",
            "Setting up chromium-chromedriver (92.0.4515.159-0ubuntu0.18.04.1) ...\n",
            "Setting up chromium-browser-l10n (92.0.4515.159-0ubuntu0.18.04.1) ...\n",
            "Processing triggers for man-db (2.8.3-2ubuntu0.1) ...\n",
            "Processing triggers for hicolor-icon-theme (0.17-2) ...\n",
            "Processing triggers for mime-support (3.60ubuntu1) ...\n",
            "Processing triggers for libc-bin (2.27-3ubuntu1.2) ...\n",
            "/sbin/ldconfig.real: /usr/local/lib/python3.7/dist-packages/ideep4py/lib/libmkldnn.so.0 is not a symbolic link\n",
            "\n",
            "cp: '/usr/lib/chromium-browser/chromedriver' and '/usr/bin/chromedriver' are the same file\n"
          ]
        }
      ]
    },
    {
      "cell_type": "code",
      "metadata": {
        "colab": {
          "base_uri": "https://localhost:8080/"
        },
        "id": "5tF0MjV871an",
        "outputId": "cf7025c9-dedd-463a-9ab3-622baa612b7a"
      },
      "source": [
        "wd = webdriver.Chrome('chromedriver',options=chrome_options)\n",
        "\n",
        "wd.get(\"https://www.example.com\")\n",
        "print(wd.page_source)"
      ],
      "execution_count": null,
      "outputs": [
        {
          "output_type": "stream",
          "name": "stdout",
          "text": [
            "<html><head>\n",
            "    <title>Example Domain</title>\n",
            "\n",
            "    <meta charset=\"utf-8\">\n",
            "    <meta http-equiv=\"Content-type\" content=\"text/html; charset=utf-8\">\n",
            "    <meta name=\"viewport\" content=\"width=device-width, initial-scale=1\">\n",
            "    <style type=\"text/css\">\n",
            "    body {\n",
            "        background-color: #f0f0f2;\n",
            "        margin: 0;\n",
            "        padding: 0;\n",
            "        font-family: -apple-system, system-ui, BlinkMacSystemFont, \"Segoe UI\", \"Open Sans\", \"Helvetica Neue\", Helvetica, Arial, sans-serif;\n",
            "        \n",
            "    }\n",
            "    div {\n",
            "        width: 600px;\n",
            "        margin: 5em auto;\n",
            "        padding: 2em;\n",
            "        background-color: #fdfdff;\n",
            "        border-radius: 0.5em;\n",
            "        box-shadow: 2px 3px 7px 2px rgba(0,0,0,0.02);\n",
            "    }\n",
            "    a:link, a:visited {\n",
            "        color: #38488f;\n",
            "        text-decoration: none;\n",
            "    }\n",
            "    @media (max-width: 700px) {\n",
            "        div {\n",
            "            margin: 0 auto;\n",
            "            width: auto;\n",
            "        }\n",
            "    }\n",
            "    </style>    \n",
            "</head>\n",
            "\n",
            "<body>\n",
            "<div>\n",
            "    <h1>Example Domain</h1>\n",
            "    <p>This domain is for use in illustrative examples in documents. You may use this\n",
            "    domain in literature without prior coordination or asking for permission.</p>\n",
            "    <p><a href=\"https://www.iana.org/domains/example\">More information...</a></p>\n",
            "</div>\n",
            "\n",
            "\n",
            "</body></html>\n"
          ]
        }
      ]
    },
    {
      "cell_type": "code",
      "metadata": {
        "id": "EoZj1UaLsSIA"
      },
      "source": [
        "# Source: https://towardsdatascience.com/web-scraping-using-selenium-python-8a60f4cf40ab\n",
        "wd.get('https://forums.edmunds.com/discussion/50806/general/x/car-subscription-vs-lease-vs-purchase')\n",
        "#print(wd.page_source)"
      ],
      "execution_count": null,
      "outputs": []
    },
    {
      "cell_type": "code",
      "metadata": {
        "id": "gi_5fX4RrDMt"
      },
      "source": [
        "# https://www.guru99.com/xpath-selenium.html\n",
        "# Understand absolute and relative xpaths in Selenium"
      ],
      "execution_count": null,
      "outputs": []
    },
    {
      "cell_type": "code",
      "metadata": {
        "colab": {
          "base_uri": "https://localhost:8080/"
        },
        "id": "i2eqfA6itwPP",
        "outputId": "f1b8f313-c905-4c9b-c220-7c9bd0dfcc4f"
      },
      "source": [
        "user_message = wd.find_elements_by_xpath('/html/body/div[1]/div[1]/div[2]/div/div/div/div/div[3]/main/div[4]/div[1]/ul/li[2]/div/div[3]/div/div[1]')[0] # try relative xpath \n",
        "comment = user_message.text\n",
        "print(comment)"
      ],
      "execution_count": null,
      "outputs": [
        {
          "output_type": "stream",
          "name": "stdout",
          "text": [
            "I hadn't thought about being forced into another insurance company, so that's a consideration.\n"
          ]
        }
      ]
    },
    {
      "cell_type": "code",
      "metadata": {
        "colab": {
          "base_uri": "https://localhost:8080/"
        },
        "id": "5--TLIzhqTE5",
        "outputId": "64cf78d0-00bb-4b11-9b82-901ecc1227ae"
      },
      "source": [
        "userid=wd.find_elements_by_xpath('//*[@id=\"Comment_5482782\"]/div/div[2]/div[1]/span[1]/a[2]')[0] #/html/body/div[1]/div[1]/div[2]/div/div/div/div/div[3]/main/div[3]/div[2]/div/div[1]/div[1]/span[1]/a[2]\n",
        "userid = userid.text\n",
        "\n",
        "print(userid)"
      ],
      "execution_count": null,
      "outputs": [
        {
          "output_type": "stream",
          "name": "stdout",
          "text": [
            "Mr_Shiftright\n"
          ]
        }
      ]
    },
    {
      "cell_type": "code",
      "metadata": {
        "colab": {
          "base_uri": "https://localhost:8080/"
        },
        "id": "TdTkWfJ9DVgZ",
        "outputId": "0ca86c2b-c237-4cf3-b85f-100a807101c6"
      },
      "source": [
        "time_element = wd.find_elements_by_xpath('//*[@id=\"Comment_5482782\"]/div/div[2]/div[2]/span/a/time')[0]\n",
        "time = time_element.text\n",
        "date = time_element.get_attribute('title')\n",
        "\n",
        "print(date)\n",
        "print(time)"
      ],
      "execution_count": null,
      "outputs": [
        {
          "output_type": "stream",
          "name": "stdout",
          "text": [
            "April 7, 2018 11:38AM\n",
            "April 2018\n"
          ]
        }
      ]
    },
    {
      "cell_type": "code",
      "metadata": {
        "colab": {
          "base_uri": "https://localhost:8080/",
          "height": 111
        },
        "id": "Nrj8sjEID2Dw",
        "outputId": "64fa155e-3db7-4c8c-8db4-d393b266a0a7"
      },
      "source": [
        "import pandas as pd\n",
        "df = pd.DataFrame(columns=['username', 'date', 'comment'])\n",
        "df.loc[0, 'username'] = userid\n",
        "df.loc[0, 'date'] = date\n",
        "df.loc[0, 'comment'] = comment\n",
        "\n",
        "df.index.name = \"ID\"\n",
        "df.head()"
      ],
      "execution_count": null,
      "outputs": [
        {
          "output_type": "execute_result",
          "data": {
            "text/html": [
              "<div>\n",
              "<style scoped>\n",
              "    .dataframe tbody tr th:only-of-type {\n",
              "        vertical-align: middle;\n",
              "    }\n",
              "\n",
              "    .dataframe tbody tr th {\n",
              "        vertical-align: top;\n",
              "    }\n",
              "\n",
              "    .dataframe thead th {\n",
              "        text-align: right;\n",
              "    }\n",
              "</style>\n",
              "<table border=\"1\" class=\"dataframe\">\n",
              "  <thead>\n",
              "    <tr style=\"text-align: right;\">\n",
              "      <th></th>\n",
              "      <th>username</th>\n",
              "      <th>date</th>\n",
              "      <th>comment</th>\n",
              "    </tr>\n",
              "    <tr>\n",
              "      <th>ID</th>\n",
              "      <th></th>\n",
              "      <th></th>\n",
              "      <th></th>\n",
              "    </tr>\n",
              "  </thead>\n",
              "  <tbody>\n",
              "    <tr>\n",
              "      <th>0</th>\n",
              "      <td>Mr_Shiftright</td>\n",
              "      <td>April 7, 2018 11:38AM</td>\n",
              "      <td>I hadn't thought about being forced into anoth...</td>\n",
              "    </tr>\n",
              "  </tbody>\n",
              "</table>\n",
              "</div>"
            ],
            "text/plain": [
              "         username  ...                                            comment\n",
              "ID                 ...                                                   \n",
              "0   Mr_Shiftright  ...  I hadn't thought about being forced into anoth...\n",
              "\n",
              "[1 rows x 3 columns]"
            ]
          },
          "metadata": {},
          "execution_count": 19
        }
      ]
    },
    {
      "cell_type": "code",
      "metadata": {
        "colab": {
          "base_uri": "https://localhost:8080/",
          "height": 215
        },
        "id": "xcK_OeHVH3g5",
        "outputId": "c61bc085-d371-483d-ff07-0e47358a2204"
      },
      "source": [
        "df.to_csv(\"results.csv\", sep=\"\\t\")\n",
        "!ls\n",
        "from google.colab import files\n",
        "files.download(\"results.csv\")"
      ],
      "execution_count": null,
      "outputs": [
        {
          "output_type": "error",
          "ename": "NameError",
          "evalue": "ignored",
          "traceback": [
            "\u001b[0;31m---------------------------------------------------------------------------\u001b[0m",
            "\u001b[0;31mNameError\u001b[0m                                 Traceback (most recent call last)",
            "\u001b[0;32m<ipython-input-1-9c899cd4ebba>\u001b[0m in \u001b[0;36m<module>\u001b[0;34m()\u001b[0m\n\u001b[0;32m----> 1\u001b[0;31m \u001b[0mdf\u001b[0m\u001b[0;34m.\u001b[0m\u001b[0mto_csv\u001b[0m\u001b[0;34m(\u001b[0m\u001b[0;34m\"results.csv\"\u001b[0m\u001b[0;34m,\u001b[0m \u001b[0msep\u001b[0m\u001b[0;34m=\u001b[0m\u001b[0;34m\"\\t\"\u001b[0m\u001b[0;34m)\u001b[0m\u001b[0;34m\u001b[0m\u001b[0;34m\u001b[0m\u001b[0m\n\u001b[0m\u001b[1;32m      2\u001b[0m \u001b[0mget_ipython\u001b[0m\u001b[0;34m(\u001b[0m\u001b[0;34m)\u001b[0m\u001b[0;34m.\u001b[0m\u001b[0msystem\u001b[0m\u001b[0;34m(\u001b[0m\u001b[0;34m'ls'\u001b[0m\u001b[0;34m)\u001b[0m\u001b[0;34m\u001b[0m\u001b[0;34m\u001b[0m\u001b[0m\n\u001b[1;32m      3\u001b[0m \u001b[0;32mfrom\u001b[0m \u001b[0mgoogle\u001b[0m\u001b[0;34m.\u001b[0m\u001b[0mcolab\u001b[0m \u001b[0;32mimport\u001b[0m \u001b[0mfiles\u001b[0m\u001b[0;34m\u001b[0m\u001b[0;34m\u001b[0m\u001b[0m\n\u001b[1;32m      4\u001b[0m \u001b[0mfiles\u001b[0m\u001b[0;34m.\u001b[0m\u001b[0mdownload\u001b[0m\u001b[0;34m(\u001b[0m\u001b[0;34m\"results.csv\"\u001b[0m\u001b[0;34m)\u001b[0m\u001b[0;34m\u001b[0m\u001b[0;34m\u001b[0m\u001b[0m\n",
            "\u001b[0;31mNameError\u001b[0m: name 'df' is not defined"
          ]
        }
      ]
    },
    {
      "cell_type": "code",
      "metadata": {
        "colab": {
          "base_uri": "https://localhost:8080/"
        },
        "id": "FWpX39vbH8G9",
        "outputId": "59683ae8-4a99-4065-a5c8-1c2c3050f81d"
      },
      "source": [
        "wd.get('https://forums.edmunds.com/discussion/50806/general/x/car-subscription-vs-lease-vs-purchase')\n",
        "\n",
        "comments = pd.DataFrame(columns = ['Date','user_id','comments']) \n",
        "ids = wd.find_elements_by_xpath(\"//*[contains(@id,'Comment_')]\")\n",
        "\n",
        "comment_ids = []\n",
        "for i in ids:\n",
        "  comment_ids.append(i.get_attribute('id'))\n",
        "\\\n",
        "\n",
        "for x in comment_ids:\n",
        "    #Extract dates from for each user on a page\n",
        "    user_date = wd.find_elements_by_xpath('//*[@id=\"' + x +'\"]/div/div[2]/div[2]/span[1]/a/time')[0]\n",
        "    date = user_date.get_attribute('title')\n",
        "\n",
        "    #Extract user ids from each user on a page\n",
        "    userid_element = wd.find_elements_by_xpath('//*[@id=\"' + x +'\"]/div/div[2]/div[1]/span[1]/a[2]')[0]\n",
        "    userid = userid_element.text\n",
        "\n",
        "    #Extract Message for each user on a page\n",
        "    user_message = wd.find_elements_by_xpath('//*[@id=\"' + x +'\"]/div/div[3]/div/div[1]')[0]\n",
        "    comment = user_message.text\n",
        "                                   \n",
        "    #Adding date, userid and comment for each user in a dataframe    \n",
        "    comments.loc[len(comments)] = [date,userid,comment]\n",
        "  \n",
        "print(comments)\n",
        "print(comments.shape[0])\n",
        "\n",
        "\n",
        "count_volvo = 0\n",
        "for i in range((comments.shape[0])): \n",
        "  if ('Volvo' in comments.loc[i,'comments']) | ('volvo' in comments.loc[i,'comments']) :\n",
        "      count_volvo += 1\n",
        "\n",
        "print(count_volvo)"
      ],
      "execution_count": null,
      "outputs": [
        {
          "output_type": "stream",
          "name": "stdout",
          "text": [
            "                         Date  ...                                           comments\n",
            "0       April 7, 2018 11:15AM  ...  Zero interest in the car subscription idea.  I...\n",
            "1       April 7, 2018 11:38AM  ...  I hadn't thought about being forced into anoth...\n",
            "2        April 7, 2018 1:37PM  ...  Also here in PA tax is on the monthly payment....\n",
            "3       April 20, 2018 7:11AM  ...  I don't see what the consumer gains in this ar...\n",
            "4       April 20, 2018 8:47AM  ...  price aside, it is the convenience they are se...\n",
            "5       April 20, 2018 9:28AM  ...  stickguy said:\\nprice aside, it is the conveni...\n",
            "6      April 20, 2018 12:04PM  ...  I just cannot imagine, even if I hit the power...\n",
            "7       April 21, 2018 2:36PM  ...  My prediction for what it's worth is this will...\n",
            "8          May 3, 2018 8:02AM  ...  I think it can work... for the right price.\\n\\...\n",
            "9         May 3, 2018 10:24AM  ...  It's like trading in to the dealer vs. selling...\n",
            "10        May 3, 2018 10:34AM  ...  If the price is right, it could work, but you ...\n",
            "11        May 3, 2018 10:37AM  ...  Plus you are locked into the automaker's insur...\n",
            "12        May 3, 2018 10:44AM  ...  Mr_Shiftright said:\\nPlus you are locked into ...\n",
            "13        May 3, 2018 10:57AM  ...  I could see it for someone in a situation wher...\n",
            "14        May 3, 2018 11:04AM  ...  Well stick, that's what we call a \"niche\" all ...\n",
            "15        May 3, 2018 11:06AM  ...  kyfdx said:\\nIf the price is right, it could w...\n",
            "16        May 3, 2018 11:07AM  ...  Until you turn it in, and find you are ineligi...\n",
            "17        May 3, 2018 11:13AM  ...  Insurance companies will always find a way to ...\n",
            "18        May 3, 2018 11:16AM  ...  Car insurance is like health insurance. Compan...\n",
            "19        May 10, 2018 9:38AM  ...  Thanks for the post and the info, car subscrip...\n",
            "20       May 31, 2018 10:15PM  ...  To me, someone has changed word \"subscription\"...\n",
            "21        June 1, 2018 3:43AM  ...  I doubt used ones are included.\\n\\nAnd what ex...\n",
            "22        June 1, 2018 9:19AM  ...  I think Mercedes subscription service is just ...\n",
            "23       June 1, 2018 12:23PM  ...  I rather just stay with a lease it isn't worth...\n",
            "24        June 1, 2018 1:10PM  ...  ? Not sure what you mean \"when they decide.\" Y...\n",
            "25       June 11, 2018 3:17PM  ...  Subscription could work great depending on the...\n",
            "26       June 19, 2018 3:48AM  ...  What is an range of discounts (%) that you've ...\n",
            "27       June 24, 2018 7:20PM  ...  Just for kicks, I downloaded the Care by Volvo...\n",
            "28       June 24, 2018 8:13PM  ...  qbrozen said:\\nJust for kicks, I downloaded th...\n",
            "29       June 25, 2018 7:38AM  ...  Almost $8K per year. I suppose there are lease...\n",
            "30       June 25, 2018 7:46AM  ...  Mr_Shiftright said:\\nAlmost $8K per year. I su...\n",
            "31       June 25, 2018 7:49AM  ...  Well, probably could get that to lease at $500...\n",
            "32       July 22, 2018 5:50AM  ...  So, here comes in the car subscription. I thin...\n",
            "33       July 24, 2018 9:10AM  ...  Definitely not interested, for the same reason...\n",
            "34      July 24, 2018 10:13AM  ...  It seems though that these subscription plans,...\n",
            "35    October 19, 2018 8:47PM  ...  Mr_Shiftright said:\\nAlmost $8K per year. I su...\n",
            "36  December 12, 2018 12:06AM  ...  Actually depends on what kind of person you ar...\n",
            "37   December 26, 2018 8:42PM  ...  Chicago area dealers, and/or probably their cu...\n",
            "38   February 18, 2019 4:47PM  ...  i think the idea of car subscriptions is actua...\n",
            "39   February 19, 2019 8:45AM  ...  Pretty sure they won't let you change that oft...\n",
            "40   February 19, 2019 8:46AM  ...  It really ends up being the same as their car ...\n",
            "41   February 19, 2019 8:53AM  ...  But are they giving the next subscriber in lin...\n",
            "42  February 19, 2019 12:29PM  ...  Good point I thought of after. Maybe. Otherwis...\n",
            "43     April 20, 2019 10:15PM  ...  Subscription isn't not a new idea. It was alre...\n",
            "44      April 21, 2019 9:02AM  ...  Yes, subscription does seem more like buying a...\n",
            "45       May 13, 2019 12:09PM  ...  My lease payments are less than my insurance p...\n",
            "46        May 21, 2019 2:24PM  ...  wish there was a subscription service where yo...\n",
            "47   September 4, 2019 9:21AM  ...  Subscriptions are roughly double the total cos...\n",
            "48   September 6, 2019 1:53AM  ...  I guess oems are just trying to broaden their ...\n",
            "49    December 7, 2019 9:12AM  ...  I never liked the idea of subscription and lease.\n",
            "\n",
            "[50 rows x 3 columns]\n",
            "50\n",
            "6\n"
          ]
        }
      ]
    },
    {
      "cell_type": "code",
      "metadata": {
        "colab": {
          "base_uri": "https://localhost:8080/",
          "height": 432
        },
        "id": "XEs-Q39PIQx3",
        "outputId": "49d42c95-a155-466d-9c34-c0a95b732316"
      },
      "source": [
        "# Source: https://towardsdatascience.com/visualize-multidimensional-datasets-with-mds-64d7b4c16eaa\n",
        "\n",
        "#What is MDS?\n",
        "# MDS (multidimensional scaling) is an algorithm that transforms a dataset into another dataset, usually with lower dimensions, keeping the same euclidean distances between the points.\n",
        "# Keeping the distances is a very useful feature of MDS because it allows us to reasonably preserve patterns and clusters\n",
        "import numpy as np\n",
        "from sklearn.datasets import load_iris\n",
        "import matplotlib.pyplot as plt\n",
        "from sklearn.manifold import MDS\n",
        "from sklearn.preprocessing import MinMaxScaler\n",
        "\n",
        "# load the Iris dataset.\n",
        "data = load_iris()\n",
        "X = data.data\n",
        "\n",
        "#We now perform a 0–1 scaling with MinMaxScaler\n",
        "#Transform features by scaling each feature to a given range.\n",
        "scaler = MinMaxScaler()\n",
        "X_scaled = scaler.fit_transform(X)\n",
        "\n",
        "#we apply the MDS procedure to get a 2-dimensional dataset\n",
        "mds = MDS(2,random_state=0)\n",
        "X_2d = mds.fit_transform(X_scaled)\n",
        "\n",
        "colors = ['red','green','blue']\n",
        "plt.rcParams['figure.figsize'] = [7, 7]\n",
        "plt.rc('font', size=14)\n",
        "# print(data.target)\n",
        "for i in np.unique(data.target):\n",
        "  subset = X_2d[data.target == i]\n",
        "  x = [row[0] for row in subset]\n",
        "  y = [row[1] for row in subset]\n",
        "  plt.scatter(x,y,c=colors[i],label=data.target_names[i])\n",
        "plt.legend()\n",
        "plt.show()\n",
        "\n",
        "#helpful links - http://statweb.stanford.edu/~jtaylo/courses/stats202/mds.html\n",
        "#mds documentation - https://scikit-learn.org/stable/modules/generated/sklearn.manifold.MDS.html\n",
        "#minmaxscaler documentation - https://scikit-learn.org/stable/modules/generated/sklearn.preprocessing.MinMaxScaler.html \n"
      ],
      "execution_count": null,
      "outputs": [
        {
          "output_type": "display_data",
          "data": {
            "image/png": "[encoded data removed]",
            "text/plain": [
              "<Figure size 504x504 with 1 Axes>"
            ]
          },
          "metadata": {
            "needs_background": "light"
          }
        }
      ]
    }
  ]
}